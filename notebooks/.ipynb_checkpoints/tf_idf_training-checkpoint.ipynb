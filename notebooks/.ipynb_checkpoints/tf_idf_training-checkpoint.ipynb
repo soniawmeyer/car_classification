{
 "cells": [
  {
   "cell_type": "code",
   "execution_count": 1,
   "metadata": {},
   "outputs": [],
   "source": [
    "import numpy as np\n",
    "import pandas as pd\n",
    "import matplotlib.pyplot as plt\n",
    "from sklearn.model_selection import train_test_split, StratifiedKFold\n",
    "from sklearn.linear_model import LogisticRegression\n",
    "from sklearn.svm import SVC\n",
    "from sklearn.naive_bayes import GaussianNB\n",
    "from sklearn.decomposition import PCA\n",
    "from sklearn.preprocessing import OneHotEncoder\n",
    "from sklearn.ensemble import RandomForestClassifier\n",
    "from sklearn.metrics import accuracy_score, f1_score, precision_score, recall_score, roc_auc_score, roc_curve, auc\n",
    "import seaborn as sns\n",
    "import time"
   ]
  },
  {
   "cell_type": "markdown",
   "metadata": {},
   "source": [
    "## Model Training "
   ]
  },
  {
   "cell_type": "code",
   "execution_count": 2,
   "metadata": {},
   "outputs": [],
   "source": [
    "data = pd.read_csv('tf_idf_training_data.csv')\n",
    "# X dataframe \n",
    "X = data.drop(['News Category'],axis=1) \n",
    "# y series\n",
    "y = data['News Category']"
   ]
  },
  {
   "cell_type": "code",
   "execution_count": 3,
   "metadata": {},
   "outputs": [],
   "source": [
    "pca = PCA(n_components=100)\n",
    "X = pca.fit_transform(X)"
   ]
  },
  {
   "cell_type": "code",
   "execution_count": 4,
   "metadata": {},
   "outputs": [],
   "source": [
    "X_train,X_test,y_train,y_test = train_test_split(X,y,test_size=0.3)\n",
    "y_train = y_train.to_numpy()\n",
    "y_test = y_test.to_numpy()"
   ]
  },
  {
   "cell_type": "code",
   "execution_count": 5,
   "metadata": {},
   "outputs": [
    {
     "name": "stdout",
     "output_type": "stream",
     "text": [
      "Training time: 7.54min\n"
     ]
    }
   ],
   "source": [
    "svc = SVC()\n",
    "\n",
    "skf = StratifiedKFold(n_splits=2, shuffle=True, random_state=1)\n",
    "svc_acc = []\n",
    "\n",
    "start = time.time()\n",
    "\n",
    "for train_index, vaild_index in skf.split(X_train,y_train):\n",
    "    x_t, x_v = X_train[train_index], X_train[vaild_index]\n",
    "    y_t, y_v = y_train[train_index], y_train[vaild_index]\n",
    "    svc.fit(x_t, y_t)\n",
    "    svc_acc.append(svc.score(x_v, y_v))\n",
    "    \n",
    "stop = time.time()\n",
    "svm_tt = round((stop-start) / 60, 2)\n",
    "print(f\"Training time: {svm_tt}min\")"
   ]
  },
  {
   "cell_type": "code",
   "execution_count": 6,
   "metadata": {},
   "outputs": [
    {
     "name": "stdout",
     "output_type": "stream",
     "text": [
      "[0.8662337662337662, 0.8660546350201522]\n"
     ]
    }
   ],
   "source": [
    "print(svc_acc)"
   ]
  },
  {
   "cell_type": "code",
   "execution_count": 7,
   "metadata": {},
   "outputs": [
    {
     "name": "stdout",
     "output_type": "stream",
     "text": [
      "0.8661442006269593\n"
     ]
    }
   ],
   "source": [
    "print(np.mean(svc_acc))"
   ]
  },
  {
   "cell_type": "code",
   "execution_count": 8,
   "metadata": {},
   "outputs": [
    {
     "name": "stdout",
     "output_type": "stream",
     "text": [
      "Training time: 0.17min\n"
     ]
    }
   ],
   "source": [
    "lr = LogisticRegression(solver='newton-cg')\n",
    "\n",
    "skf = StratifiedKFold(n_splits=5, shuffle=True, random_state=1)\n",
    "lr_acc = []\n",
    "\n",
    "start = time.time()\n",
    "\n",
    "for train_index, vaild_index in skf.split(X_train,y_train):\n",
    "    x_t, x_v = X_train[train_index], X_train[vaild_index]\n",
    "    y_t, y_v = y_train[train_index], y_train[vaild_index]\n",
    "    lr.fit(x_t, y_t)\n",
    "    lr_acc.append(lr.score(x_v, y_v))\n",
    "\n",
    "stop = time.time()\n",
    "lr_tt = round((stop-start) / 60, 2)\n",
    "print(f\"Training time: {lr_tt}min\")"
   ]
  },
  {
   "cell_type": "code",
   "execution_count": 9,
   "metadata": {},
   "outputs": [
    {
     "name": "stdout",
     "output_type": "stream",
     "text": [
      "[0.8498096730855351, 0.8473466188983431, 0.846115091804747, 0.8485781459919391, 0.8451074787281684]\n"
     ]
    }
   ],
   "source": [
    "print(lr_acc)"
   ]
  },
  {
   "cell_type": "code",
   "execution_count": 10,
   "metadata": {},
   "outputs": [
    {
     "name": "stdout",
     "output_type": "stream",
     "text": [
      "0.8473914017017465\n"
     ]
    }
   ],
   "source": [
    "print(np.mean(lr_acc))"
   ]
  },
  {
   "cell_type": "code",
   "execution_count": 11,
   "metadata": {},
   "outputs": [
    {
     "name": "stdout",
     "output_type": "stream",
     "text": [
      "Training time: 0.02min\n"
     ]
    }
   ],
   "source": [
    "gnb = GaussianNB()\n",
    "\n",
    "skf = StratifiedKFold(n_splits=5, shuffle=True, random_state=1)\n",
    "gnb_acc = []\n",
    "\n",
    "start = time.time()\n",
    "\n",
    "for train_index, vaild_index in skf.split(X_train,y_train):\n",
    "    x_t, x_v = X_train[train_index], X_train[vaild_index]\n",
    "    y_t, y_v = y_train[train_index], y_train[vaild_index]\n",
    "    gnb.fit(x_t, y_t)\n",
    "    gnb_acc.append(gnb.score(x_v, y_v))\n",
    "\n",
    "stop=time.time()\n",
    "gnb_tt = round((stop-start) / 60, 2)\n",
    "print(f\"Training time: {gnb_tt}min\")"
   ]
  },
  {
   "cell_type": "code",
   "execution_count": 12,
   "metadata": {},
   "outputs": [
    {
     "name": "stdout",
     "output_type": "stream",
     "text": [
      "[0.7565494849977609, 0.757501119570085, 0.7546462158531124, 0.7541983878190774, 0.7611957008508733]\n"
     ]
    }
   ],
   "source": [
    "print(gnb_acc)"
   ]
  },
  {
   "cell_type": "code",
   "execution_count": 13,
   "metadata": {},
   "outputs": [
    {
     "name": "stdout",
     "output_type": "stream",
     "text": [
      "0.7568181818181817\n"
     ]
    }
   ],
   "source": [
    "print(np.mean(gnb_acc))"
   ]
  },
  {
   "cell_type": "code",
   "execution_count": 14,
   "metadata": {},
   "outputs": [],
   "source": [
    "# Cross-validation is a resampling procedure used to evaluate machine \n",
    "# learning models on a limited data sample. (prevent generalization) \n",
    "# GridSearchCV for tuning hyperparameter with resampling "
   ]
  },
  {
   "cell_type": "code",
   "execution_count": 15,
   "metadata": {},
   "outputs": [
    {
     "name": "stdout",
     "output_type": "stream",
     "text": [
      "Training time: 5.62min\n"
     ]
    }
   ],
   "source": [
    "rf = RandomForestClassifier()\n",
    "\n",
    "skf = StratifiedKFold(n_splits=5, shuffle=True, random_state=1)\n",
    "rf_acc = []\n",
    "\n",
    "start = time.time()\n",
    "\n",
    "for train_index, vaild_index in skf.split(X_train,y_train):\n",
    "    x_t, x_v = X_train[train_index], X_train[vaild_index]\n",
    "    y_t, y_v = y_train[train_index], y_train[vaild_index]\n",
    "    rf.fit(x_t, y_t)\n",
    "    rf_acc.append(rf.score(x_v, y_v))\n",
    "\n",
    "stop=time.time()\n",
    "rf_tt = round((stop-start) / 60, 2)\n",
    "print(f\"Training time: {rf_tt}min\")"
   ]
  },
  {
   "cell_type": "code",
   "execution_count": 16,
   "metadata": {},
   "outputs": [
    {
     "name": "stdout",
     "output_type": "stream",
     "text": [
      "[0.8421406180026869, 0.8403493058665472, 0.8400134348410211, 0.83833407971339, 0.8370465741155396]\n"
     ]
    }
   ],
   "source": [
    "print(rf_acc)"
   ]
  },
  {
   "cell_type": "code",
   "execution_count": 17,
   "metadata": {},
   "outputs": [
    {
     "name": "stdout",
     "output_type": "stream",
     "text": [
      "0.839576802507837\n"
     ]
    }
   ],
   "source": [
    "print(np.mean(rf_acc))"
   ]
  },
  {
   "cell_type": "markdown",
   "metadata": {},
   "source": [
    "## Model Evaluation"
   ]
  },
  {
   "cell_type": "code",
   "execution_count": 18,
   "metadata": {},
   "outputs": [],
   "source": [
    "y_pred = lr.predict(X_test)\n",
    "\n",
    "lr_acc = accuracy_score(y_test,y_pred)\n",
    "lr_recall = recall_score(y_test,y_pred,average='macro')\n",
    "lr_precision = precision_score(y_test,y_pred,average='macro')\n",
    "lr_f1 = f1_score(y_test,y_pred,average='macro')\n",
    "\n",
    "y_pred_roc = OneHotEncoder().fit_transform(y_pred.reshape(-1, 1)).toarray()\n",
    "y_test_roc = OneHotEncoder().fit_transform(y_test.reshape(-1, 1)).toarray()\n",
    "lr_roc = roc_auc_score(y_test_roc,y_pred_roc,multi_class='ovo')"
   ]
  },
  {
   "cell_type": "code",
   "execution_count": 19,
   "metadata": {},
   "outputs": [],
   "source": [
    "y_pred = gnb.predict(X_test)\n",
    "\n",
    "gnb_acc = accuracy_score(y_test,y_pred)\n",
    "gnb_recall = recall_score(y_test_roc,y_pred_roc,average='macro')\n",
    "gnb_precision = precision_score(y_test_roc,y_pred_roc,average='macro')\n",
    "gnb_f1 = f1_score(y_test_roc,y_pred_roc,average='macro')\n",
    "\n",
    "y_pred_roc = OneHotEncoder().fit_transform(y_pred.reshape(-1, 1)).toarray()\n",
    "y_test_roc = OneHotEncoder().fit_transform(y_test.reshape(-1, 1)).toarray()\n",
    "gnb_roc = roc_auc_score(y_test_roc,y_pred_roc,multi_class='ovo')\n",
    "# The multiclass and multilabel cases expect a shape (n_samples, n_classes)"
   ]
  },
  {
   "cell_type": "code",
   "execution_count": 20,
   "metadata": {},
   "outputs": [],
   "source": [
    "y_pred = svc.predict(X_test)\n",
    "\n",
    "svc_acc = accuracy_score(y_test,y_pred)\n",
    "svc_recall = recall_score(y_test,y_pred,average='macro')\n",
    "svc_precision = precision_score(y_test,y_pred,average='macro')\n",
    "svc_f1 = f1_score(y_test,y_pred,average='macro')\n",
    "\n",
    "y_pred_roc = OneHotEncoder().fit_transform(y_pred.reshape(-1, 1)).toarray()\n",
    "y_test_roc = OneHotEncoder().fit_transform(y_test.reshape(-1, 1)).toarray()\n",
    "svc_roc = roc_auc_score(y_test_roc,y_pred_roc,multi_class='ovo')"
   ]
  },
  {
   "cell_type": "code",
   "execution_count": 21,
   "metadata": {},
   "outputs": [],
   "source": [
    "y_pred = rf.predict(X_test)\n",
    "\n",
    "rf_acc = accuracy_score(y_test,y_pred)\n",
    "rf_recall = recall_score(y_test,y_pred,average='macro')\n",
    "rf_precision = precision_score(y_test,y_pred,average='macro')\n",
    "rf_f1 = f1_score(y_test,y_pred,average='macro')\n",
    "\n",
    "y_pred_roc = OneHotEncoder().fit_transform(y_pred.reshape(-1, 1)).toarray()\n",
    "y_test_roc = OneHotEncoder().fit_transform(y_test.reshape(-1, 1)).toarray()\n",
    "rf_roc = roc_auc_score(y_test_roc,y_pred_roc,multi_class='ovo')"
   ]
  },
  {
   "cell_type": "code",
   "execution_count": 22,
   "metadata": {},
   "outputs": [
    {
     "name": "stdout",
     "output_type": "stream",
     "text": [
      "Logistic Regression:  0.8467084639498432 0.8465328008695757 0.8460856399046329 0.8462279269155835 0.8977268358229247\n",
      "Naive Bayes:  0.7548850574712643 0.8465328008695757 0.8460856399046329 0.8462279269155835 0.8365389822277269\n",
      "Support Vector Machine:  0.8678683385579937 0.8677547256147384 0.86766731366256 0.8675378049428635 0.9118653282619429\n",
      "Random Forest:  0.84119644723093 0.8410416781977297 0.840803036268064 0.840619977086184 0.8940627902520878\n"
     ]
    }
   ],
   "source": [
    "print(\"Logistic Regression: \",lr_acc,lr_recall,lr_precision,lr_f1,lr_roc)\n",
    "print(\"Naive Bayes: \", gnb_acc,gnb_recall,gnb_precision,gnb_f1,gnb_roc)\n",
    "print(\"Support Vector Machine: \", svc_acc,svc_recall,svc_precision,svc_f1,svc_roc)\n",
    "print(\"Random Forest: \", rf_acc,rf_recall,rf_precision,rf_f1,rf_roc)"
   ]
  },
  {
   "cell_type": "code",
   "execution_count": 23,
   "metadata": {},
   "outputs": [],
   "source": [
    "results = pd.DataFrame([[lr_acc,lr_recall,lr_precision,lr_f1,lr_roc],\n",
    "                        [gnb_acc,gnb_recall,gnb_precision,gnb_f1,gnb_roc],\n",
    "                        [svc_acc,svc_recall,svc_precision,svc_f1,svc_roc],\n",
    "                        [rf_acc,rf_recall,rf_precision,rf_f1,rf_roc]],\n",
    "                       columns=['accuracy','recall','precision','fl-score','roc_auc'], \n",
    "                       index=[\"Logistic Regression\",\"Naive Bayes\",\"Support Vector Machine\",\"Random Forest\"])"
   ]
  },
  {
   "cell_type": "code",
   "execution_count": 24,
   "metadata": {},
   "outputs": [
    {
     "data": {
      "text/html": [
       "<div>\n",
       "<style scoped>\n",
       "    .dataframe tbody tr th:only-of-type {\n",
       "        vertical-align: middle;\n",
       "    }\n",
       "\n",
       "    .dataframe tbody tr th {\n",
       "        vertical-align: top;\n",
       "    }\n",
       "\n",
       "    .dataframe thead th {\n",
       "        text-align: right;\n",
       "    }\n",
       "</style>\n",
       "<table border=\"1\" class=\"dataframe\">\n",
       "  <thead>\n",
       "    <tr style=\"text-align: right;\">\n",
       "      <th></th>\n",
       "      <th>accuracy</th>\n",
       "      <th>recall</th>\n",
       "      <th>precision</th>\n",
       "      <th>fl-score</th>\n",
       "      <th>roc_auc</th>\n",
       "    </tr>\n",
       "  </thead>\n",
       "  <tbody>\n",
       "    <tr>\n",
       "      <th>Logistic Regression</th>\n",
       "      <td>0.846708</td>\n",
       "      <td>0.846533</td>\n",
       "      <td>0.846086</td>\n",
       "      <td>0.846228</td>\n",
       "      <td>0.897727</td>\n",
       "    </tr>\n",
       "    <tr>\n",
       "      <th>Naive Bayes</th>\n",
       "      <td>0.754885</td>\n",
       "      <td>0.846533</td>\n",
       "      <td>0.846086</td>\n",
       "      <td>0.846228</td>\n",
       "      <td>0.836539</td>\n",
       "    </tr>\n",
       "    <tr>\n",
       "      <th>Support Vector Machine</th>\n",
       "      <td>0.867868</td>\n",
       "      <td>0.867755</td>\n",
       "      <td>0.867667</td>\n",
       "      <td>0.867538</td>\n",
       "      <td>0.911865</td>\n",
       "    </tr>\n",
       "    <tr>\n",
       "      <th>Random Forest</th>\n",
       "      <td>0.841196</td>\n",
       "      <td>0.841042</td>\n",
       "      <td>0.840803</td>\n",
       "      <td>0.840620</td>\n",
       "      <td>0.894063</td>\n",
       "    </tr>\n",
       "  </tbody>\n",
       "</table>\n",
       "</div>"
      ],
      "text/plain": [
       "                        accuracy    recall  precision  fl-score   roc_auc\n",
       "Logistic Regression     0.846708  0.846533   0.846086  0.846228  0.897727\n",
       "Naive Bayes             0.754885  0.846533   0.846086  0.846228  0.836539\n",
       "Support Vector Machine  0.867868  0.867755   0.867667  0.867538  0.911865\n",
       "Random Forest           0.841196  0.841042   0.840803  0.840620  0.894063"
      ]
     },
     "execution_count": 24,
     "metadata": {},
     "output_type": "execute_result"
    }
   ],
   "source": [
    "results"
   ]
  },
  {
   "cell_type": "code",
   "execution_count": 25,
   "metadata": {},
   "outputs": [],
   "source": [
    "results.to_csv('tf-idf_results.csv')"
   ]
  },
  {
   "cell_type": "markdown",
   "metadata": {},
   "source": [
    "### Training Time"
   ]
  },
  {
   "cell_type": "code",
   "execution_count": 26,
   "metadata": {},
   "outputs": [
    {
     "data": {
      "image/png": "[encoded data removed]",
      "text/plain": [
       "<Figure size 432x288 with 1 Axes>"
      ]
     },
     "metadata": {},
     "output_type": "display_data"
    }
   ],
   "source": [
    "sns.set(font_scale=1.2)\n",
    "fig = plt.figure()\n",
    "ax = fig.add_axes([0,0,1,1])\n",
    "Models = ['RandomForest', 'GaussianNB', 'Logistic', 'SVM']\n",
    "TrainingTime=[rf_tt,gnb_tt,lr_tt,svm_tt]\n",
    "ax.bar(Models,TrainingTime,color=[\"lightyellow\",\"lightgreen\", \"skyblue\", \"pink\"]);\n",
    "for i in ax.patches:\n",
    "    ax.text(i.get_x()+.2, i.get_height(), str(round(i.get_height(),2)), fontsize=14, color='black')\n",
    "plt.title('Comparison of Different Classification Models on TF-IDF Feature Extraction Method\\n');\n",
    "plt.ylabel('Training Time (in mins)\\n');\n",
    "plt.xlabel('\\nClassification Models');\n",
    "plt.savefig('tfidf_model_training_times.png', bbox_inches='tight')\n",
    "plt.show();"
   ]
  },
  {
   "cell_type": "code",
   "execution_count": null,
   "metadata": {},
   "outputs": [],
   "source": []
  }
 ],
 "metadata": {
  "kernelspec": {
   "display_name": "Python 3",
   "language": "python",
   "name": "python3"
  },
  "language_info": {
   "codemirror_mode": {
    "name": "ipython",
    "version": 3
   },
   "file_extension": ".py",
   "mimetype": "text/x-python",
   "name": "python",
   "nbconvert_exporter": "python",
   "pygments_lexer": "ipython3",
   "version": "3.7.5"
  }
 },
 "nbformat": 4,
 "nbformat_minor": 4
}
